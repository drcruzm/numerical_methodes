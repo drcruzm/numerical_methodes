{
  "nbformat": 4,
  "nbformat_minor": 0,
  "metadata": {
    "kernelspec": {
      "display_name": "Python 3",
      "language": "python",
      "name": "python3"
    },
    "language_info": {
      "codemirror_mode": {
        "name": "ipython",
        "version": 3
      },
      "file_extension": ".py",
      "mimetype": "text/x-python",
      "name": "python",
      "nbconvert_exporter": "python",
      "pygments_lexer": "ipython3",
      "version": "3.7.4"
    },
    "colab": {
      "name": "Copia de integracion.ipynb",
      "provenance": [],
      "include_colab_link": true
    }
  },
  "cells": [
    {
      "cell_type": "markdown",
      "metadata": {
        "id": "view-in-github",
        "colab_type": "text"
      },
      "source": [
        "<a href=\"https://colab.research.google.com/github/drcruzm/numerical_methodes/blob/master/integracion.ipynb\" target=\"_parent\"><img src=\"https://colab.research.google.com/assets/colab-badge.svg\" alt=\"Open In Colab\"/></a>"
      ]
    },
    {
      "cell_type": "code",
      "metadata": {
        "id": "JuTn6UkDKT8d",
        "colab_type": "code",
        "colab": {}
      },
      "source": [
        "import matplotlib.pyplot as plt\n",
        "import numpy as np\n",
        "import sympy as sy"
      ],
      "execution_count": 0,
      "outputs": []
    },
    {
      "cell_type": "markdown",
      "metadata": {
        "id": "eCwU9PK_KT8p",
        "colab_type": "text"
      },
      "source": [
        "$\\int_{0}^{2}x^{2}$"
      ]
    },
    {
      "cell_type": "code",
      "metadata": {
        "id": "Ee8C8HAvKT8t",
        "colab_type": "code",
        "outputId": "7259520a-3799-412b-e28a-20669f960cf2",
        "colab": {
          "base_uri": "https://localhost:8080/",
          "height": 297
        }
      },
      "source": [
        "dx = 0.01\n",
        "a= -1\n",
        "b= 3\n",
        "\n",
        "def f(x):\n",
        "    return x**2\n",
        "\n",
        "x = np.arange(a, b, dx)\n",
        "\n",
        "plt.xlabel (r\"x\")\n",
        "plt.ylabel (r'$f(x)$')\n",
        "plt.title (r'$x$ vs $f(x)$')\n",
        "\n",
        "plt.plot(x, f(x))\n",
        "plt.plot(x, f(x),'-b',label='$\\int_{0}^{2}x^{2}$')\n",
        "plt.legend()\n",
        "\n",
        "\n",
        "plt.axhline(linewidth=.5, color='r')\n",
        "\n",
        "plt.grid(True)\n",
        "plt.show()\n"
      ],
      "execution_count": 0,
      "outputs": [
        {
          "output_type": "display_data",
          "data": {
            "image/png": "[encoded data removed]",
            "text/plain": [
              "<Figure size 432x288 with 1 Axes>"
            ]
          },
          "metadata": {
            "tags": []
          }
        }
      ]
    },
    {
      "cell_type": "code",
      "metadata": {
        "id": "zeOLcOzhKT82",
        "colab_type": "code",
        "outputId": "5ef75c86-ea9d-45bc-8627-6de525a1e2c3",
        "colab": {
          "base_uri": "https://localhost:8080/",
          "height": 297
        }
      },
      "source": [
        "x= np.linspace(-1,3,1000)\n",
        "\n",
        "plt.xlabel (r\"x\")\n",
        "plt.ylabel (r'$f(x)$')\n",
        "plt.title (r'$x$ vs $f(x)$')\n",
        "\n",
        "\n",
        "plt.plot(x, f(x),'-b',label='$\\int_{0}^{2}x^{2}$')\n",
        "plt.legend()\n",
        "\n",
        "\n",
        "plt.axhline(linewidth=.5, color='r')\n",
        "\n",
        "plt.fill_between(x, f(x), where=[(x>0) and (x <2) for x in x], alpha=0.6)\n",
        "plt.show()"
      ],
      "execution_count": 0,
      "outputs": [
        {
          "output_type": "display_data",
          "data": {
            "image/png": "[encoded data removed]",
            "text/plain": [
              "<Figure size 432x288 with 1 Axes>"
            ]
          },
          "metadata": {
            "tags": []
          }
        }
      ]
    },
    {
      "cell_type": "code",
      "metadata": {
        "id": "wxudp5lMKT8-",
        "colab_type": "code",
        "outputId": "de1dbfc5-eac4-4176-b0d6-5a47d0c87660",
        "colab": {
          "base_uri": "https://localhost:8080/",
          "height": 35
        }
      },
      "source": [
        "x=sy.Symbol('x')\n",
        "\n",
        "sy.integrate(f(x),(x,0,2))"
      ],
      "execution_count": 0,
      "outputs": [
        {
          "output_type": "execute_result",
          "data": {
            "text/plain": [
              "8/3"
            ]
          },
          "metadata": {
            "tags": []
          },
          "execution_count": 6
        }
      ]
    },
    {
      "cell_type": "code",
      "metadata": {
        "id": "73Rv867KKT9D",
        "colab_type": "code",
        "colab": {}
      },
      "source": [
        "def"
      ],
      "execution_count": 0,
      "outputs": []
    }
  ]
}